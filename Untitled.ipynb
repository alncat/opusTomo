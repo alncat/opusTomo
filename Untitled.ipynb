{
 "cells": [
  {
   "cell_type": "code",
   "execution_count": 25,
   "id": "a82aa275",
   "metadata": {},
   "outputs": [],
   "source": [
    "import nglview"
   ]
  },
  {
   "cell_type": "code",
   "execution_count": 26,
   "id": "3a27246d",
   "metadata": {},
   "outputs": [],
   "source": [
    "view = nglview.NGLWidget()"
   ]
  },
  {
   "cell_type": "code",
   "execution_count": 27,
   "id": "4263ccc8",
   "metadata": {},
   "outputs": [],
   "source": [
    "tmp1 = view.add_component('./tmp0.mrc')"
   ]
  },
  {
   "cell_type": "code",
   "execution_count": 28,
   "id": "75b6124d",
   "metadata": {},
   "outputs": [
    {
     "data": {
      "application/vnd.jupyter.widget-view+json": {
       "model_id": "693058139b78416e9d80f2e74e3182d2",
       "version_major": 2,
       "version_minor": 0
      },
      "text/plain": [
       "NGLWidget()"
      ]
     },
     "metadata": {},
     "output_type": "display_data"
    }
   ],
   "source": [
    "view"
   ]
  },
  {
   "cell_type": "code",
   "execution_count": 33,
   "id": "5a009e2d",
   "metadata": {},
   "outputs": [],
   "source": [
    "view.component_0.update_surface(wireframe=False, isolevel=3)"
   ]
  },
  {
   "cell_type": "code",
   "execution_count": 29,
   "id": "c0d0b69b",
   "metadata": {},
   "outputs": [],
   "source": [
    "tmp2 = view.add_component('./tmp1.mrc')"
   ]
  },
  {
   "cell_type": "code",
   "execution_count": 35,
   "id": "e8baf4b6",
   "metadata": {},
   "outputs": [],
   "source": [
    "view.component_1.update_surface(color='yellow', isolevle=3)"
   ]
  },
  {
   "cell_type": "code",
   "execution_count": 23,
   "id": "9ebd63ab",
   "metadata": {},
   "outputs": [
    {
     "ename": "AttributeError",
     "evalue": "'NGLWidget' object has no attribute 'component_0'",
     "output_type": "error",
     "traceback": [
      "\u001b[0;31m---------------------------------------------------------------------------\u001b[0m",
      "\u001b[0;31mAttributeError\u001b[0m                            Traceback (most recent call last)",
      "Cell \u001b[0;32mIn[23], line 1\u001b[0m\n\u001b[0;32m----> 1\u001b[0m \u001b[43mview\u001b[49m\u001b[38;5;241;43m.\u001b[39;49m\u001b[43mcomponent_0\u001b[49m\u001b[38;5;241m.\u001b[39mremove()\n",
      "\u001b[0;31mAttributeError\u001b[0m: 'NGLWidget' object has no attribute 'component_0'"
     ]
    }
   ],
   "source": [
    "view.remove_component"
   ]
  },
  {
   "cell_type": "code",
   "execution_count": null,
   "id": "32cad644",
   "metadata": {},
   "outputs": [],
   "source": []
  }
 ],
 "metadata": {
  "kernelspec": {
   "display_name": "Python 3",
   "language": "python",
   "name": "python3"
  },
  "language_info": {
   "codemirror_mode": {
    "name": "ipython",
    "version": 3
   },
   "file_extension": ".py",
   "mimetype": "text/x-python",
   "name": "python",
   "nbconvert_exporter": "python",
   "pygments_lexer": "ipython3",
   "version": "3.9.12"
  }
 },
 "nbformat": 4,
 "nbformat_minor": 5
}
